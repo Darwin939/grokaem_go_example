{
 "cells": [
  {
   "cell_type": "code",
   "execution_count": 7,
   "metadata": {},
   "outputs": [
    {
     "name": "stdout",
     "output_type": "stream",
     "text": [
      "6\n"
     ]
    }
   ],
   "source": [
    "def elemtwise_addition(vec_a,vec_b):\n",
    "    output = 0\n",
    "    assert len(vec_a)==len(vec_b)\n",
    "    for i in range(len(vec_a)):\n",
    "        output += vec_a[i]+vec_b[i]\n",
    "    return output\n",
    "a = [1 , 1 ,  1 ]\n",
    "b = [1 , 1 ,1]\n",
    "res = elemtwise_addition(a,b)\n",
    "print (res)"
   ]
  },
  {
   "cell_type": "code",
   "execution_count": 10,
   "metadata": {},
   "outputs": [
    {
     "name": "stdout",
     "output_type": "stream",
     "text": [
      "3\n"
     ]
    }
   ],
   "source": [
    "def elemtwise_multiplication(vec_a,vec_b):\n",
    "    output = 0\n",
    "    assert len(vec_a)==len(vec_b)\n",
    "    for i in range(len(vec_a)):\n",
    "        output += vec_a[i]*vec_b[i]\n",
    "    return output\n",
    "a = [1 , 1 ,  1 ]\n",
    "b = [1 , 1 ,1]\n",
    "res = elemtwise_multiplication(a,b)\n",
    "print (res)"
   ]
  },
  {
   "cell_type": "code",
   "execution_count": 12,
   "metadata": {},
   "outputs": [
    {
     "name": "stdout",
     "output_type": "stream",
     "text": [
      "3\n"
     ]
    }
   ],
   "source": [
    "def vector_sum(vec_a):\n",
    "    output = 0\n",
    "    for i in range(len(vec_a)):\n",
    "        output+=vec_a[i]\n",
    "    return output\n",
    "\n",
    "res = vector_sum(a)\n",
    "print (res)"
   ]
  },
  {
   "cell_type": "code",
   "execution_count": 16,
   "metadata": {},
   "outputs": [
    {
     "name": "stdout",
     "output_type": "stream",
     "text": [
      "1.0\n"
     ]
    }
   ],
   "source": [
    "def vector_average(vec_a):\n",
    "    output = 0\n",
    "    for i in vec_a:\n",
    "        output+=i\n",
    "    return output/len(vec_a)\n",
    "\n",
    "res = vector_average(a)\n",
    "print (res)"
   ]
  },
  {
   "cell_type": "code",
   "execution_count": null,
   "metadata": {},
   "outputs": [],
   "source": []
  }
 ],
 "metadata": {
  "kernelspec": {
   "display_name": "Python 3",
   "language": "python",
   "name": "python3"
  },
  "language_info": {
   "codemirror_mode": {
    "name": "ipython",
    "version": 3
   },
   "file_extension": ".py",
   "mimetype": "text/x-python",
   "name": "python",
   "nbconvert_exporter": "python",
   "pygments_lexer": "ipython3",
   "version": "3.8.2"
  }
 },
 "nbformat": 4,
 "nbformat_minor": 4
}
