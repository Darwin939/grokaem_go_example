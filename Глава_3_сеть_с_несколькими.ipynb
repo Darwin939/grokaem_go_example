{
 "metadata": {
  "language_info": {
   "codemirror_mode": {
    "name": "ipython",
    "version": 3
   },
   "file_extension": ".py",
   "mimetype": "text/x-python",
   "name": "python",
   "nbconvert_exporter": "python",
   "pygments_lexer": "ipython3",
   "version": "3.8.2-final"
  },
  "orig_nbformat": 2,
  "kernelspec": {
   "name": "python38264bit3d11b3dd94114493867a1ae84e197f7b",
   "display_name": "Python 3.8.2 64-bit"
  }
 },
 "nbformat": 4,
 "nbformat_minor": 2,
 "cells": [
  {
   "cell_type": "code",
   "execution_count": 1,
   "metadata": {},
   "outputs": [],
   "source": [
    "import numpy as np\n",
    "ih_wgt = np.array([\n",
    "    [0.1,0.2,-0.1],\n",
    "    [-0.1,0.1,0.9],\n",
    "    [0.1,0.4,0.1]\n",
    "])\n",
    "hp_wgt = np.array([[0.1,0.1,-0.3],\n",
    "            [0.1,0.2,0.0],\n",
    "            [0.0,1.3,0.1]])\n",
    "weights = [ih_wgt,hp_wgt]\n",
    "def neural_network(input,weights):\n",
    "    hid = input.dot(weights[0])\n",
    "\n",
    "    pred = hid.dot(weights[1])\n",
    "    return pred"
   ]
  },
  {
   "cell_type": "code",
   "execution_count": 2,
   "metadata": {
    "tags": []
   },
   "outputs": [
    {
     "output_type": "stream",
     "name": "stdout",
     "text": "[ 0.315  0.351 -0.286]\n"
    }
   ],
   "source": [
    "toes = np.array([8.5,9.5,9.9,9.0])\n",
    "wlrec = np.array([0.65,0.8,0.8,0.9])\n",
    "nfans = np.array([1.2,1.3,0.5,1.0])\n",
    "\n",
    "input = np.array([toes[0],wlrec[0],nfans[0]])\n",
    "pred = neural_network(input,weights)\n",
    "print(pred)"
   ]
  },
  {
   "cell_type": "code",
   "execution_count": 5,
   "metadata": {
    "tags": []
   },
   "outputs": [
    {
     "output_type": "stream",
     "name": "stdout",
     "text": "[[31 19]\n [85 55]]\n"
    }
   ],
   "source": [
    "v = np.array([[1,2,3],\n",
    "              [4,5,6]])\n",
    "c = np.array([[7,8],\n",
    "            [9,1],\n",
    "            [2,3]])\n",
    "print (v.dot(c))\n",
    "\n",
    "v = np.array([[1,4,9,16],\n",
    "              [1,4,9,16]])\n"
   ]
  },
  {
   "cell_type": "code",
   "execution_count": 11,
   "metadata": {
    "tags": []
   },
   "outputs": [
    {
     "output_type": "stream",
     "name": "stdout",
     "text": "Error:0.5184 Prediction:0.08000000000000002\nError:0.5080838400000002 Prediction:0.0872\nError:0.4979729715840001 Prediction:0.09432800000000001\nError:0.4880633094494785 Prediction:0.10138472000000001\nError:0.4783508495914338 Prediction:0.1083708728\nError:0.4688316676845643 Prediction:0.115287164072\nError:0.4595019174976414 Prediction:0.12213429243128\nError:0.4503578293394384 Prediction:0.1289129495069672\nError:0.4413957085355836 Prediction:0.13562382001189752\nError:0.43261193393572545 Prediction:0.14226758181177854\nError:0.4240029564504046 Prediction:0.14884490599366076\nError:0.41556529761704153 Prediction:0.15535645693372416\nError:0.40729554819446234 Prediction:0.16180289236438694\nError:0.3991903667853926 Prediction:0.16818486344074307\nError:0.3912464784863632 Prediction:0.17450301480633565\nError:0.38346067356448454 Prediction:0.1807579846582723\nError:0.37582980616055134 Prediction:0.18695040481168956\nError:0.3683507930179564 Prediction:0.19308090076357268\nError:0.36102061223689896 Prediction:0.19915009175593695\nError:0.35383630205338484 Prediction:0.20515859083837756\nError:0.3467949596425224 Prediction:0.2111070049299938\nError:0.33989373994563626 Prediction:0.21699593488069385\nError:0.3331298545207181 Prediction:0.22282597553188693\nError:0.32650057041575575 Prediction:0.22859771577656807\nError:0.3200032090644822 Prediction:0.2343117386188024\nError:0.3136351452040991 Prediction:0.23996862123261434\nError:0.30739380581453746 Prediction:0.2455689350202882\nError:0.30127666907882816 Prediction:0.2511132456700853\nError:0.2952812633641595 Prediction:0.25660211321338444\nError:0.2894051662232128 Prediction:0.2620360920812506\nError:0.2836460034153707 Prediction:0.2674157311604381\nError:0.27800144794740494 Prediction:0.27274157384883374\nError:0.27246921913325145 Prediction:0.2780141581103454\nError:0.2670470816724998 Prediction:0.2832340165292419\nError:0.2617328447472171 Prediction:0.28840167636394953\nError:0.25652436113674754 Prediction:0.29351765960031\nError:0.2514195263501262 Prediction:0.2985824830043069\nError:0.2464162777757587 Prediction:0.30359665817426384\nError:0.24151259384802112 Prediction:0.3085606915925212\nError:0.23670649323044546 Prediction:0.313475084676596\nError:0.23199603401515959 Prediction:0.31834033382983007\nError:0.22737931293825792 Prediction:0.32315693049153177\nError:0.22285446461078662 Prediction:0.3279253611866164\nError:0.21841966076503194 Prediction:0.33264610757475027\nError:0.21407310951580782 Prediction:0.33731964649900276\nError:0.20981305463644323 Prediction:0.34194645003401275\nError:0.205637774849178 Prediction:0.3465269855336726\nError:0.20154558312967938 Prediction:0.3510617156783359\nError:0.19753482602539874 Prediction:0.35555109852155253\nError:0.19360388298749334 Prediction:0.359995587536337\nError:0.18975116571604222 Prediction:0.3643956316609736\nError:0.185975117518293 Prediction:0.36875167534436387\nError:0.18227421267967894 Prediction:0.37306415859092024\nError:0.17864695584735332 Prediction:0.37733351700501105\nError:0.17509188142599094 Prediction:0.381560181834961\nError:0.17160755298561378 Prediction:0.3857445800166113\nError:0.16819256268120006 Prediction:0.3898871342164452\nError:0.16484553068384417 Prediction:0.3939882628742808\nError:0.16156510462323567 Prediction:0.39804838024553796\nError:0.15834995904123325 Prediction:0.4020678964430826\nError:0.15519879485631272 Prediction:0.4060472174786518\nError:0.15211033883867212 Prediction:0.40998674530386525\nError:0.14908334309578247 Prediction:0.4138868778508267\nError:0.14611658456817642 Prediction:0.4177480090723184\nError:0.1432088645352697 Prediction:0.4215705289815952\nError:0.14035900813101784 Prediction:0.42535482369177924\nError:0.1375658638692106 Prediction:0.42910127545486143\nError:0.13482830317821332 Prediction:0.4328102627003128\nError:0.13214521994496684 Prediction:0.43648216007330976\nError:0.12951553006806202 Prediction:0.4401173384725766\nError:0.12693817101970759 Prediction:0.44371616508785083\nError:0.12441210141641543 Prediction:0.4472790034369723\nError:0.12193630059822877 Prediction:0.4508062134026026\nError:0.11950976821632402 Prediction:0.45429815126857653\nError:0.11713152382881918 Prediction:0.45775516975589076\nError:0.11480060650462572 Prediction:0.4611776180583318\nError:0.11251607443518363 Prediction:0.4645658418777485\nError:0.1102770045539235 Prediction:0.467920183458971\nError:0.1080824921633004 Prediction:0.4712409816243813\nError:0.10593165056925073 Prediction:0.4745285718081375\nError:0.10382361072292266 Prediction:0.4777832860900561\nError:0.10175752086953653 Prediction:0.4810054532291555\nError:0.09973254620423275 Prediction:0.48419539869686395\nError:0.09774786853476854 Prediction:0.4873534447098953\nError:0.09580268595092663 Prediction:0.49047991026279636\nError:0.09389621250050315 Prediction:0.49357511116016844\nError:0.09202767787174312 Prediction:0.4966393600485668\nError:0.09019632708209543 Prediction:0.4996729664480811\nError:0.08840142017316174 Prediction:0.5026762367836003\nError:0.08664223191171579 Prediction:0.5056494744157644\nError:0.08491805149667267 Prediction:0.5085929796716067\nError:0.08322818227188888 Prediction:0.5115070498748906\nError:0.0815719414446783 Prediction:0.5143919793761417\nError:0.07994865980992925 Prediction:0.5172480595823802\nError:0.07835768147971163 Prediction:0.5200755789865564\nError:0.07679836361826536 Prediction:0.5228748231966909\nError:0.0752700761822619 Prediction:0.5256460749647239\nError:0.0737722016662349 Prediction:0.5283896142150767\nError:0.07230413485307681 Prediction:0.531105718072926\nError:0.07086528256950056 Prediction:0.5337946608921967\n"
    }
   ],
   "source": [
    "weight = 0.8\n",
    "goal_pred = 0.8\n",
    "input = 0.1\n",
    "\n",
    "for iter in range(100):\n",
    "    pred = input * weight\n",
    "    error = (pred - goal_pred)**2\n",
    "    direction_and_amount = (pred - goal_pred)*input\n",
    "    weight = weight - direction_and_amount\n",
    "    print(\"Error:\"+str(error) + \" Prediction:\"+str(pred))"
   ]
  },
  {
   "cell_type": "code",
   "execution_count": null,
   "metadata": {},
   "outputs": [],
   "source": []
  }
 ]
}