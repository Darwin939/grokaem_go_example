{
 "metadata": {
  "language_info": {
   "codemirror_mode": {
    "name": "ipython",
    "version": 3
   },
   "file_extension": ".py",
   "mimetype": "text/x-python",
   "name": "python",
   "nbconvert_exporter": "python",
   "pygments_lexer": "ipython3",
   "version": "3.8.2-final"
  },
  "orig_nbformat": 2,
  "kernelspec": {
   "name": "python38264bit3d11b3dd94114493867a1ae84e197f7b",
   "display_name": "Python 3.8.2 64-bit"
  }
 },
 "nbformat": 4,
 "nbformat_minor": 2,
 "cells": [
  {
   "cell_type": "code",
   "execution_count": 1,
   "metadata": {},
   "outputs": [],
   "source": [
    "import numpy as np\n",
    "ih_wgt = np.array([\n",
    "    [0.1,0.2,-0.1],\n",
    "    [-0.1,0.1,0.9],\n",
    "    [0.1,0.4,0.1]\n",
    "])\n",
    "hp_wgt = np.array([[0.1,0.1,-0.3],\n",
    "            [0.1,0.2,0.0],\n",
    "            [0.0,1.3,0.1]])\n",
    "weights = [ih_wgt,hp_wgt]\n",
    "def neural_network(input,weights):\n",
    "    hid = input.dot(weights[0])\n",
    "\n",
    "    pred = hid.dot(weights[1])\n",
    "    return pred"
   ]
  },
  {
   "cell_type": "code",
   "execution_count": 2,
   "metadata": {
    "tags": []
   },
   "outputs": [
    {
     "output_type": "stream",
     "name": "stdout",
     "text": "[ 0.315  0.351 -0.286]\n"
    }
   ],
   "source": [
    "toes = np.array([8.5,9.5,9.9,9.0])\n",
    "wlrec = np.array([0.65,0.8,0.8,0.9])\n",
    "nfans = np.array([1.2,1.3,0.5,1.0])\n",
    "\n",
    "input = np.array([toes[0],wlrec[0],nfans[0]])\n",
    "pred = neural_network(input,weights)\n",
    "print(pred)"
   ]
  },
  {
   "cell_type": "code",
   "execution_count": 5,
   "metadata": {
    "tags": []
   },
   "outputs": [
    {
     "output_type": "stream",
     "name": "stdout",
     "text": "[[31 19]\n [85 55]]\n"
    }
   ],
   "source": [
    "v = np.array([[1,2,3],\n",
    "              [4,5,6]])\n",
    "c = np.array([[7,8],\n",
    "            [9,1],\n",
    "            [2,3]])\n",
    "print (v.dot(c))\n",
    "\n",
    "v = np.array([[1,4,9,16],\n",
    "              [1,4,9,16]])\n"
   ]
  },
  {
   "cell_type": "code",
   "execution_count": null,
   "metadata": {},
   "outputs": [],
   "source": []
  }
 ]
}