{
 "metadata": {
  "language_info": {
   "codemirror_mode": {
    "name": "ipython",
    "version": 3
   },
   "file_extension": ".py",
   "mimetype": "text/x-python",
   "name": "python",
   "nbconvert_exporter": "python",
   "pygments_lexer": "ipython3",
   "version": "3.8.2-final"
  },
  "orig_nbformat": 2,
  "kernelspec": {
   "name": "python38264bit3d11b3dd94114493867a1ae84e197f7b",
   "display_name": "Python 3.8.2 64-bit"
  }
 },
 "nbformat": 4,
 "nbformat_minor": 2,
 "cells": [
  {
   "cell_type": "code",
   "execution_count": null,
   "metadata": {},
   "outputs": [],
   "source": [
    "weight = 0.5\n",
    "input = 0.5\n",
    "goal_pred = 0.8\n",
    "\n",
    "step_amount = 0.001\n",
    "for iter in range(1101):\n",
    "    pred = input*weight\n",
    "    error  = (pred - goal_pred)**2\n",
    "    print(\"Error:\"+str(error)+\" Prediction:\"+str(pred))\n",
    "    up_pred = input * (weight+step_amount)\n",
    "    up_error = (goal_pred - up_pred)**2\n",
    "\n",
    "    down_pred = input * (weight - step_amount)\n",
    "    down_error = (goal_pred - down_pred)**2\n",
    "\n",
    "    if (down_error < up_error):\n",
    "        weight =  weight - step_amount\n",
    "    if (up_error < down_error):\n",
    "        weight = weight + step_amount\n",
    "        \n"
   ]
  },
  {
   "cell_type": "code",
   "execution_count": null,
   "metadata": {},
   "outputs": [],
   "source": []
  }
 ]
}